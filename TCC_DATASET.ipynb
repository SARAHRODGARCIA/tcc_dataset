{
  "nbformat": 4,
  "nbformat_minor": 0,
  "metadata": {
    "colab": {
      "provenance": []
    },
    "kernelspec": {
      "name": "python3",
      "display_name": "Python 3"
    },
    "language_info": {
      "name": "python"
    }
  },
  "cells": [
    {
      "cell_type": "code",
      "source": [
        "# Instalar o Faker (somente necessário no Google Colab ou se ainda não estiver instalado)\n",
        "!pip install faker\n",
        "\n",
        "# Imports\n",
        "import pandas as pd\n",
        "import numpy as np\n",
        "import random\n",
        "from faker import Faker\n",
        "from datetime import datetime, timedelta\n",
        "\n",
        "# Inicializar o gerador de dados falsos\n",
        "fake = Faker('pt_BR')\n",
        "np.random.seed(42)\n",
        "\n",
        "# Parâmetros\n",
        "num_registros = 1000\n",
        "procedimentos = ['Consulta Geral', 'Exame de Sangue', 'Raio-X', 'Tomografia', 'Ultrassom', 'Fisioterapia', 'Cirurgia Simples']\n",
        "cids = ['I10', 'E11', 'J45', 'M54', 'F32', 'Z00']\n",
        "hospitais = ['Hospital Vida', 'Clínica BemEstar', 'Centro Médico Popular', 'Hospital São Lucas']\n",
        "planos = ['Básico', 'Executivo', 'Premium']\n",
        "empresas = ['Colgate', 'PicPay', 'Banco Z', 'Hospital Care', 'Startup X']\n",
        "especialidades = ['Clínico Geral', 'Ortopedista', 'Psicólogo', 'Cardiologista', 'Endocrinologista']\n",
        "\n",
        "# Função para gerar datas aleatórias\n",
        "def random_date(start, end):\n",
        "    return start + timedelta(days=random.randint(0, (end - start).days))\n",
        "\n",
        "# Gerar dados simulados\n",
        "dados = []\n",
        "for i in range(num_registros):\n",
        "    data = random_date(datetime(2024, 1, 1), datetime(2024, 6, 1))\n",
        "    procedimento = random.choice(procedimentos)\n",
        "    valor_base = np.random.uniform(100, 3000)\n",
        "    cid = random.choice(cids)\n",
        "    hospital = random.choice(hospitais)\n",
        "    plano = random.choice(planos)\n",
        "    empresa = random.choice(empresas)\n",
        "    medico = fake.name()\n",
        "    crm = f\"{random.randint(10000, 99999)}/{random.choice(['SP', 'RJ', 'MG', 'PR'])}\"\n",
        "    duracao = np.random.randint(15, 180)\n",
        "    especialidade = random.choice(especialidades)\n",
        "\n",
        "    # Simular fraudes em 5% dos casos\n",
        "    is_fraude = np.random.rand() < 0.05\n",
        "    valor_final = valor_base * (1 + np.random.uniform(0.5, 2.0)) if is_fraude else valor_base\n",
        "\n",
        "    dados.append([\n",
        "        i+1,\n",
        "        fake.uuid4(),\n",
        "        fake.name(),\n",
        "        data.strftime('%Y-%m-%d'),\n",
        "        procedimento,\n",
        "        round(valor_final, 2),\n",
        "        cid,\n",
        "        hospital,\n",
        "        plano,\n",
        "        empresa,\n",
        "        medico,\n",
        "        crm,\n",
        "        duracao,\n",
        "        especialidade,\n",
        "        int(is_fraude)\n",
        "    ])\n",
        "\n",
        "# Criar DataFrame\n",
        "colunas = [\n",
        "    'ID_Registro', 'ID_Paciente', 'Nome_Paciente', 'Data_Atendimento', 'Procedimento',\n",
        "    'Valor_Cobrado_R$', 'CID', 'Hospital', 'Plano', 'Empresa_Contratante',\n",
        "    'Medico_Responsavel', 'CRM', 'Duracao_Minutos', 'Especialidade', 'Fraude_Suspeita'\n",
        "]\n",
        "df = pd.DataFrame(dados, columns=colunas)\n",
        "\n",
        "# Salvar como CSV no ambiente do Colab\n",
        "df.to_csv(\"/content/dataset_fraude_saude_corporativa.csv\", index=False)\n",
        "print(\"Arquivo CSV gerado com sucesso em /content/\")\n"
      ],
      "metadata": {
        "colab": {
          "base_uri": "https://localhost:8080/"
        },
        "id": "0yBvYFgnMpGK",
        "outputId": "99f70716-2c15-4bf0-9d21-6454857903f9"
      },
      "execution_count": 2,
      "outputs": [
        {
          "output_type": "stream",
          "name": "stdout",
          "text": [
            "Collecting faker\n",
            "  Downloading faker-37.4.0-py3-none-any.whl.metadata (15 kB)\n",
            "Requirement already satisfied: tzdata in /usr/local/lib/python3.11/dist-packages (from faker) (2025.2)\n",
            "Downloading faker-37.4.0-py3-none-any.whl (1.9 MB)\n",
            "\u001b[2K   \u001b[90m━━━━━━━━━━━━━━━━━━━━━━━━━━━━━━━━━━━━━━━━\u001b[0m \u001b[32m1.9/1.9 MB\u001b[0m \u001b[31m19.6 MB/s\u001b[0m eta \u001b[36m0:00:00\u001b[0m\n",
            "\u001b[?25hInstalling collected packages: faker\n",
            "Successfully installed faker-37.4.0\n",
            "Arquivo CSV gerado com sucesso em /content/\n"
          ]
        }
      ]
    },
    {
      "cell_type": "code",
      "source": [],
      "metadata": {
        "id": "_hb-sH5kMoBc"
      },
      "execution_count": null,
      "outputs": []
    }
  ]
}